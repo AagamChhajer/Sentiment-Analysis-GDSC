{
 "cells": [
  {
   "cell_type": "code",
   "execution_count": 2,
   "metadata": {
    "colab": {
     "base_uri": "https://localhost:8080/"
    },
    "id": "TgmtA55zbx5U",
    "outputId": "b7c6bd52-19f3-475f-c7c9-5b280abbdc05"
   },
   "outputs": [
    {
     "name": "stdout",
     "output_type": "stream",
     "text": [
      "Looking in indexes: https://pypi.org/simple, https://us-python.pkg.dev/colab-wheels/public/simple/\n",
      "Requirement already satisfied: ffmpeg in /usr/local/lib/python3.9/dist-packages (1.4)\n",
      "Looking in indexes: https://pypi.org/simple, https://us-python.pkg.dev/colab-wheels/public/simple/\n",
      "Requirement already satisfied: imageio-ffmpeg in /usr/local/lib/python3.9/dist-packages (0.4.8)\n",
      "Looking in indexes: https://pypi.org/simple, https://us-python.pkg.dev/colab-wheels/public/simple/\n",
      "Requirement already satisfied: imageio==2.4.1 in /usr/local/lib/python3.9/dist-packages (2.4.1)\n",
      "Requirement already satisfied: numpy in /usr/local/lib/python3.9/dist-packages (from imageio==2.4.1) (1.22.4)\n",
      "Requirement already satisfied: pillow in /usr/local/lib/python3.9/dist-packages (from imageio==2.4.1) (8.4.0)\n",
      "Looking in indexes: https://pypi.org/simple, https://us-python.pkg.dev/colab-wheels/public/simple/\n",
      "Collecting git+https://github.com/openai/whisper.git\n",
      "  Cloning https://github.com/openai/whisper.git to /tmp/pip-req-build-4atkw7ut\n",
      "  Running command git clone --filter=blob:none --quiet https://github.com/openai/whisper.git /tmp/pip-req-build-4atkw7ut\n",
      "  Resolved https://github.com/openai/whisper.git to commit 6dea21fd7f7253bfe450f1e2512a0fe47ee2d258\n",
      "  Installing build dependencies ... \u001b[?25l\u001b[?25hdone\n",
      "  Getting requirements to build wheel ... \u001b[?25l\u001b[?25hdone\n",
      "  Preparing metadata (pyproject.toml) ... \u001b[?25l\u001b[?25hdone\n",
      "Requirement already satisfied: torch in /usr/local/lib/python3.9/dist-packages (from openai-whisper==20230314) (1.13.1+cu116)\n",
      "Requirement already satisfied: ffmpeg-python==0.2.0 in /usr/local/lib/python3.9/dist-packages (from openai-whisper==20230314) (0.2.0)\n",
      "Requirement already satisfied: numpy in /usr/local/lib/python3.9/dist-packages (from openai-whisper==20230314) (1.22.4)\n",
      "Requirement already satisfied: tqdm in /usr/local/lib/python3.9/dist-packages (from openai-whisper==20230314) (4.65.0)\n",
      "Requirement already satisfied: more-itertools in /usr/local/lib/python3.9/dist-packages (from openai-whisper==20230314) (9.1.0)\n",
      "Requirement already satisfied: tiktoken==0.3.1 in /usr/local/lib/python3.9/dist-packages (from openai-whisper==20230314) (0.3.1)\n",
      "Requirement already satisfied: triton==2.0.0 in /usr/local/lib/python3.9/dist-packages (from openai-whisper==20230314) (2.0.0)\n",
      "Requirement already satisfied: numba in /usr/local/lib/python3.9/dist-packages (from openai-whisper==20230314) (0.56.4)\n",
      "Requirement already satisfied: future in /usr/local/lib/python3.9/dist-packages (from ffmpeg-python==0.2.0->openai-whisper==20230314) (0.18.3)\n",
      "Requirement already satisfied: regex>=2022.1.18 in /usr/local/lib/python3.9/dist-packages (from tiktoken==0.3.1->openai-whisper==20230314) (2022.10.31)\n",
      "Requirement already satisfied: requests>=2.26.0 in /usr/local/lib/python3.9/dist-packages (from tiktoken==0.3.1->openai-whisper==20230314) (2.27.1)\n",
      "Requirement already satisfied: filelock in /usr/local/lib/python3.9/dist-packages (from triton==2.0.0->openai-whisper==20230314) (3.10.0)\n",
      "Requirement already satisfied: lit in /usr/local/lib/python3.9/dist-packages (from triton==2.0.0->openai-whisper==20230314) (16.0.0)\n",
      "Requirement already satisfied: cmake in /usr/local/lib/python3.9/dist-packages (from triton==2.0.0->openai-whisper==20230314) (3.25.2)\n",
      "Requirement already satisfied: setuptools in /usr/local/lib/python3.9/dist-packages (from numba->openai-whisper==20230314) (63.4.3)\n",
      "Requirement already satisfied: llvmlite<0.40,>=0.39.0dev0 in /usr/local/lib/python3.9/dist-packages (from numba->openai-whisper==20230314) (0.39.1)\n",
      "Requirement already satisfied: typing-extensions in /usr/local/lib/python3.9/dist-packages (from torch->openai-whisper==20230314) (4.5.0)\n",
      "Requirement already satisfied: idna<4,>=2.5 in /usr/local/lib/python3.9/dist-packages (from requests>=2.26.0->tiktoken==0.3.1->openai-whisper==20230314) (3.4)\n",
      "Requirement already satisfied: charset-normalizer~=2.0.0 in /usr/local/lib/python3.9/dist-packages (from requests>=2.26.0->tiktoken==0.3.1->openai-whisper==20230314) (2.0.12)\n",
      "Requirement already satisfied: certifi>=2017.4.17 in /usr/local/lib/python3.9/dist-packages (from requests>=2.26.0->tiktoken==0.3.1->openai-whisper==20230314) (2022.12.7)\n",
      "Requirement already satisfied: urllib3<1.27,>=1.21.1 in /usr/local/lib/python3.9/dist-packages (from requests>=2.26.0->tiktoken==0.3.1->openai-whisper==20230314) (1.26.15)\n",
      "Looking in indexes: https://pypi.org/simple, https://us-python.pkg.dev/colab-wheels/public/simple/\n",
      "Requirement already satisfied: whisper in /usr/local/lib/python3.9/dist-packages (1.1.10)\n",
      "Requirement already satisfied: six in /usr/local/lib/python3.9/dist-packages (from whisper) (1.16.0)\n"
     ]
    }
   ],
   "source": [
    "#Installing all the required packages\n",
    "!pip install ffmpeg\n",
    "!pip install imageio-ffmpeg\n",
    "!pip install imageio==2.4.1\n",
    "!pip install git+https://github.com/openai/whisper.git\n",
    "!pip install whisper"
   ]
  },
  {
   "cell_type": "code",
   "execution_count": 3,
   "metadata": {
    "colab": {
     "base_uri": "https://localhost:8080/"
    },
    "id": "LVKdiMvrcpZz",
    "outputId": "3bfef4f2-2c2d-4a36-e097-579554f452c5"
   },
   "outputs": [
    {
     "name": "stderr",
     "output_type": "stream",
     "text": [
      "[nltk_data] Downloading package punkt to /root/nltk_data...\n",
      "[nltk_data]   Package punkt is already up-to-date!\n",
      "[nltk_data] Downloading package stopwords to /root/nltk_data...\n",
      "[nltk_data]   Package stopwords is already up-to-date!\n",
      "[nltk_data] Downloading package vader_lexicon to /root/nltk_data...\n",
      "[nltk_data]   Package vader_lexicon is already up-to-date!\n"
     ]
    }
   ],
   "source": [
    "#Importing all the necessary Libraries\n",
    "import numpy as np\n",
    "import pandas as pd\n",
    "import string\n",
    "import tkinter\n",
    "import matplotlib\n",
    "matplotlib.use('Agg')\n",
    "import matplotlib.pyplot as plt\n",
    "from IPython.display import Image\n",
    "from collections import Counter\n",
    "from nltk.corpus import stopwords\n",
    "from nltk.tokenize import word_tokenize\n",
    "from nltk.sentiment.vader import SentimentIntensityAnalyzer \n",
    "import nltk\n",
    "nltk.download('punkt')\n",
    "nltk.download('stopwords')\n",
    "nltk.download('vader_lexicon')\n",
    "import moviepy.editor\n",
    "from tkinter.filedialog import *\n",
    "import whisper"
   ]
  },
  {
   "cell_type": "code",
   "execution_count": 4,
   "metadata": {
    "id": "-dZUchkwdHpL"
   },
   "outputs": [],
   "source": [
    "model = whisper.load_model(\"large\")"
   ]
  },
  {
   "cell_type": "code",
   "execution_count": 5,
   "metadata": {
    "id": "vnDH4f2_du2M"
   },
   "outputs": [],
   "source": [
    "\n",
    "class sentiment_analyzer():\n",
    "    AUDIO_FILE_NAME='audiofile.mp3'\n",
    "    INPUT_VIDEO_NAME=\"samplevideo.mp4\"\n",
    "    def sentimentAnalyser(self,sentiment_text):\n",
    "        #Analyzing the overall sentiment of the content\n",
    "        score = SentimentIntensityAnalyzer().polarity_scores(sentiment_text)\n",
    "        negative = score['neg']\n",
    "        positive = score['pos']\n",
    "        if negative > positive:\n",
    "            return \"Negataive Sentiment\"\n",
    "        elif positive > negative:\n",
    "            return \"Positive Sentiment\"\n",
    "        else:\n",
    "            return \"Neutral Sentiment\"\n",
    "\n",
    "    #Plotting a Percentage Pie Chart of Emotion Distribution\n",
    "    def plot_chart(self,emotion_count_list):\n",
    "        fig, axis1 = plt.subplots(figsize = (9,9))\n",
    "        total = sum(emotion_count_list.values())\n",
    "        wedges, texts, _ = axis1.pie(emotion_count_list.values(), autopct=lambda pct: '{:.2f}%'.format(pct), textprops=dict(color=\"w\"))\n",
    "        axis1.legend(wedges, emotion_count_list.keys(), loc=\"center left\", bbox_to_anchor=(1, 0, 0.5, 1))\n",
    "        axis1.set_title(\"Emotion Distribution\")\n",
    "        plt.savefig(\"emotion_distribution.png\")\n",
    "        plt.clf()\n",
    "        display(Image(\"emotion_distribution.png\"))\n",
    "    \n",
    "    def execute(self):\n",
    "        #Importing the samplevideo file and converting it in audiofile\n",
    "        video = moviepy.editor.VideoFileClip(self.INPUT_VIDEO_NAME)\n",
    "        aud = video.audio\n",
    "        aud.write_audiofile(self.AUDIO_FILE_NAME)\n",
    "        \n",
    "        #Converting the audiofile in text and storing it in a Dictionary with key \"text\"\n",
    "        transcribed_data = model.transcribe(self.AUDIO_FILE_NAME)\n",
    "        text_data = transcribed_data[\"text\"]\n",
    "\n",
    "        #Changing the text in lowercase and cleaning it to make it easier to analyze\n",
    "        lower_case = text_data.lower()\n",
    "        clean = lower_case.translate(str.maketrans(\"\",\"\",string.punctuation)).strip()\n",
    "        \n",
    "        #Coverting the text in form of tokens\n",
    "        token_text = word_tokenize(clean,\"english\")\n",
    "\n",
    "        #Removing all the stopwords{Words which basically don't show any sentiments\n",
    "        final_words = []\n",
    "        for word in token_text:\n",
    "            if word not in stopwords.words('english'):\n",
    "                final_words.append(word)\n",
    "        \n",
    "        \n",
    "        emotion_list = []\n",
    "        #Formatting the sentiment.txt and splitting it in words and the emotion they relate to\n",
    "        with open('sentiment.txt', 'r') as file:\n",
    "                for line in file:\n",
    "                    clean_line = line.replace(\"\\n\",\"\").replace(\",\",\"\").replace(\"'\",\"\").strip()\n",
    "                    word,emotion = clean_line.split(\":\")\n",
    "\n",
    "                    #Creating lists of emotions conveyed by words in final_words\n",
    "                    if word in final_words:\n",
    "                        emotion_list.append(emotion)\n",
    "\n",
    "        #Creating a dictionary that keeps count of all the emotions\n",
    "        emotion_dict = Counter(emotion_list)\n",
    "        \n",
    "        #final sentiment\n",
    "        sentiment_of_text=self.sentimentAnalyser(clean)\n",
    "        print(sentiment_of_text)\n",
    "       \n",
    "        print(emotion_dict)\n",
    "        self.plot_chart(emotion_dict)\n",
    "      \n"
   ]
  },
  {
   "cell_type": "code",
   "execution_count": 6,
   "metadata": {
    "colab": {
     "base_uri": "https://localhost:8080/",
     "height": 772
    },
    "id": "CgqASui4oIqI",
    "outputId": "9eb15d23-70b0-4431-d7c7-b5275efe6673"
   },
   "outputs": [
    {
     "name": "stdout",
     "output_type": "stream",
     "text": [
      "[MoviePy] Writing audio in audiofile.mp3\n"
     ]
    },
    {
     "name": "stderr",
     "output_type": "stream",
     "text": [
      "100%|██████████| 19940/19940 [00:20<00:00, 963.74it/s]"
     ]
    },
    {
     "name": "stdout",
     "output_type": "stream",
     "text": [
      "[MoviePy] Done.\n"
     ]
    },
    {
     "name": "stderr",
     "output_type": "stream",
     "text": [
      "\n"
     ]
    },
    {
     "name": "stdout",
     "output_type": "stream",
     "text": [
      "Positive Sentiment\n",
      "Counter({' happy': 4, ' hated': 2, ' entitled': 2, ' attached': 1, ' attracted': 1, ' alone': 1, ' free': 1, ' loved': 1})\n"
     ]
    },
    {
     "data": {
      "image/png": "[encoded data removed]",
      "text/plain": [
       "<IPython.core.display.Image object>"
      ]
     },
     "metadata": {},
     "output_type": "display_data"
    }
   ],
   "source": [
    "#Creating instance of a \"sentiment_analyzer\" object and calling its \"execute\" method\n",
    "sentiment_analyzer_obj=sentiment_analyzer()\n",
    "sentiment_analyzer_obj.execute()\n"
   ]
  }
 ],
 "metadata": {
  "accelerator": "GPU",
  "colab": {
   "provenance": []
  },
  "gpuClass": "standard",
  "kernelspec": {
   "display_name": "Python 3 (ipykernel)",
   "language": "python",
   "name": "python3"
  },
  "language_info": {
   "codemirror_mode": {
    "name": "ipython",
    "version": 3
   },
   "file_extension": ".py",
   "mimetype": "text/x-python",
   "name": "python",
   "nbconvert_exporter": "python",
   "pygments_lexer": "ipython3",
   "version": "3.10.6"
  }
 },
 "nbformat": 4,
 "nbformat_minor": 1
}
